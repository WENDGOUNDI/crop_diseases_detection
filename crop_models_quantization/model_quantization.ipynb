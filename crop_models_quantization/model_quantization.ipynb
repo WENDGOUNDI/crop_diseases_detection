{
  "nbformat": 4,
  "nbformat_minor": 0,
  "metadata": {
    "colab": {
      "provenance": []
    },
    "kernelspec": {
      "name": "python3",
      "display_name": "Python 3"
    },
    "language_info": {
      "name": "python"
    }
  },
  "cells": [
    {
      "cell_type": "code",
      "source": [
        "from google.colab import drive\n",
        "drive.mount('/content/drive')"
      ],
      "metadata": {
        "id": "iqx_Lnd9X21V",
        "colab": {
          "base_uri": "https://localhost:8080/"
        },
        "outputId": "7979b863-0715-4c0b-b737-ecd90daf5226"
      },
      "execution_count": null,
      "outputs": [
        {
          "output_type": "stream",
          "name": "stdout",
          "text": [
            "Mounted at /content/drive\n"
          ]
        }
      ]
    },
    {
      "cell_type": "code",
      "source": [
        "# Moving the the working dir\n",
        "%cd  /content/drive/MyDrive/perso/yolov8_tflite/"
      ],
      "metadata": {
        "colab": {
          "base_uri": "https://localhost:8080/"
        },
        "id": "SMcfxoN2YSYG",
        "outputId": "4acf0e19-d9f4-4d2b-e60e-529b8e4d8650"
      },
      "execution_count": null,
      "outputs": [
        {
          "output_type": "stream",
          "name": "stdout",
          "text": [
            "/content/drive/MyDrive/perso/yolov8_tflite\n"
          ]
        }
      ]
    },
    {
      "cell_type": "code",
      "source": [
        "# Checking if we are in the right dir\n",
        "!ls"
      ],
      "metadata": {
        "colab": {
          "base_uri": "https://localhost:8080/"
        },
        "id": "GO1S-75rYrnO",
        "outputId": "c6def863-5fb9-4f62-d231-671922b61528"
      },
      "execution_count": null,
      "outputs": [
        {
          "output_type": "stream",
          "name": "stdout",
          "text": [
            "calibration_image_sample_data_20x128x128x3_float32.npy\tmodel_quantization.ipynb  raw_models\n",
            "datasets\t\t\t\t\t\toriginal_maize_model\n",
            "maize_test\t\t\t\t\t\toriginal_tomato_model\n"
          ]
        }
      ]
    },
    {
      "cell_type": "code",
      "source": [
        "# Installing ultralytics lib\n",
        "!pip install ultralytics"
      ],
      "metadata": {
        "colab": {
          "base_uri": "https://localhost:8080/"
        },
        "id": "TqPjJM2PYd4V",
        "outputId": "9e7737f8-4107-4cf0-ce15-db3c45596c8b"
      },
      "execution_count": null,
      "outputs": [
        {
          "output_type": "stream",
          "name": "stdout",
          "text": [
            "Collecting ultralytics\n",
            "  Downloading ultralytics-8.3.39-py3-none-any.whl.metadata (35 kB)\n",
            "Requirement already satisfied: numpy>=1.23.0 in /usr/local/lib/python3.10/dist-packages (from ultralytics) (1.26.4)\n",
            "Requirement already satisfied: matplotlib>=3.3.0 in /usr/local/lib/python3.10/dist-packages (from ultralytics) (3.8.0)\n",
            "Requirement already satisfied: opencv-python>=4.6.0 in /usr/local/lib/python3.10/dist-packages (from ultralytics) (4.10.0.84)\n",
            "Requirement already satisfied: pillow>=7.1.2 in /usr/local/lib/python3.10/dist-packages (from ultralytics) (11.0.0)\n",
            "Requirement already satisfied: pyyaml>=5.3.1 in /usr/local/lib/python3.10/dist-packages (from ultralytics) (6.0.2)\n",
            "Requirement already satisfied: requests>=2.23.0 in /usr/local/lib/python3.10/dist-packages (from ultralytics) (2.32.3)\n",
            "Requirement already satisfied: scipy>=1.4.1 in /usr/local/lib/python3.10/dist-packages (from ultralytics) (1.13.1)\n",
            "Requirement already satisfied: torch>=1.8.0 in /usr/local/lib/python3.10/dist-packages (from ultralytics) (2.5.1+cu121)\n",
            "Requirement already satisfied: torchvision>=0.9.0 in /usr/local/lib/python3.10/dist-packages (from ultralytics) (0.20.1+cu121)\n",
            "Requirement already satisfied: tqdm>=4.64.0 in /usr/local/lib/python3.10/dist-packages (from ultralytics) (4.66.6)\n",
            "Requirement already satisfied: psutil in /usr/local/lib/python3.10/dist-packages (from ultralytics) (5.9.5)\n",
            "Requirement already satisfied: py-cpuinfo in /usr/local/lib/python3.10/dist-packages (from ultralytics) (9.0.0)\n",
            "Requirement already satisfied: pandas>=1.1.4 in /usr/local/lib/python3.10/dist-packages (from ultralytics) (2.2.2)\n",
            "Requirement already satisfied: seaborn>=0.11.0 in /usr/local/lib/python3.10/dist-packages (from ultralytics) (0.13.2)\n",
            "Collecting ultralytics-thop>=2.0.0 (from ultralytics)\n",
            "  Downloading ultralytics_thop-2.0.12-py3-none-any.whl.metadata (9.4 kB)\n",
            "Requirement already satisfied: contourpy>=1.0.1 in /usr/local/lib/python3.10/dist-packages (from matplotlib>=3.3.0->ultralytics) (1.3.1)\n",
            "Requirement already satisfied: cycler>=0.10 in /usr/local/lib/python3.10/dist-packages (from matplotlib>=3.3.0->ultralytics) (0.12.1)\n",
            "Requirement already satisfied: fonttools>=4.22.0 in /usr/local/lib/python3.10/dist-packages (from matplotlib>=3.3.0->ultralytics) (4.55.0)\n",
            "Requirement already satisfied: kiwisolver>=1.0.1 in /usr/local/lib/python3.10/dist-packages (from matplotlib>=3.3.0->ultralytics) (1.4.7)\n",
            "Requirement already satisfied: packaging>=20.0 in /usr/local/lib/python3.10/dist-packages (from matplotlib>=3.3.0->ultralytics) (24.2)\n",
            "Requirement already satisfied: pyparsing>=2.3.1 in /usr/local/lib/python3.10/dist-packages (from matplotlib>=3.3.0->ultralytics) (3.2.0)\n",
            "Requirement already satisfied: python-dateutil>=2.7 in /usr/local/lib/python3.10/dist-packages (from matplotlib>=3.3.0->ultralytics) (2.8.2)\n",
            "Requirement already satisfied: pytz>=2020.1 in /usr/local/lib/python3.10/dist-packages (from pandas>=1.1.4->ultralytics) (2024.2)\n",
            "Requirement already satisfied: tzdata>=2022.7 in /usr/local/lib/python3.10/dist-packages (from pandas>=1.1.4->ultralytics) (2024.2)\n",
            "Requirement already satisfied: charset-normalizer<4,>=2 in /usr/local/lib/python3.10/dist-packages (from requests>=2.23.0->ultralytics) (3.4.0)\n",
            "Requirement already satisfied: idna<4,>=2.5 in /usr/local/lib/python3.10/dist-packages (from requests>=2.23.0->ultralytics) (3.10)\n",
            "Requirement already satisfied: urllib3<3,>=1.21.1 in /usr/local/lib/python3.10/dist-packages (from requests>=2.23.0->ultralytics) (2.2.3)\n",
            "Requirement already satisfied: certifi>=2017.4.17 in /usr/local/lib/python3.10/dist-packages (from requests>=2.23.0->ultralytics) (2024.8.30)\n",
            "Requirement already satisfied: filelock in /usr/local/lib/python3.10/dist-packages (from torch>=1.8.0->ultralytics) (3.16.1)\n",
            "Requirement already satisfied: typing-extensions>=4.8.0 in /usr/local/lib/python3.10/dist-packages (from torch>=1.8.0->ultralytics) (4.12.2)\n",
            "Requirement already satisfied: networkx in /usr/local/lib/python3.10/dist-packages (from torch>=1.8.0->ultralytics) (3.4.2)\n",
            "Requirement already satisfied: jinja2 in /usr/local/lib/python3.10/dist-packages (from torch>=1.8.0->ultralytics) (3.1.4)\n",
            "Requirement already satisfied: fsspec in /usr/local/lib/python3.10/dist-packages (from torch>=1.8.0->ultralytics) (2024.10.0)\n",
            "Requirement already satisfied: sympy==1.13.1 in /usr/local/lib/python3.10/dist-packages (from torch>=1.8.0->ultralytics) (1.13.1)\n",
            "Requirement already satisfied: mpmath<1.4,>=1.1.0 in /usr/local/lib/python3.10/dist-packages (from sympy==1.13.1->torch>=1.8.0->ultralytics) (1.3.0)\n",
            "Requirement already satisfied: six>=1.5 in /usr/local/lib/python3.10/dist-packages (from python-dateutil>=2.7->matplotlib>=3.3.0->ultralytics) (1.16.0)\n",
            "Requirement already satisfied: MarkupSafe>=2.0 in /usr/local/lib/python3.10/dist-packages (from jinja2->torch>=1.8.0->ultralytics) (3.0.2)\n",
            "Downloading ultralytics-8.3.39-py3-none-any.whl (896 kB)\n",
            "\u001b[2K   \u001b[90m━━━━━━━━━━━━━━━━━━━━━━━━━━━━━━━━━━━━━━━━\u001b[0m \u001b[32m896.9/896.9 kB\u001b[0m \u001b[31m14.0 MB/s\u001b[0m eta \u001b[36m0:00:00\u001b[0m\n",
            "\u001b[?25hDownloading ultralytics_thop-2.0.12-py3-none-any.whl (26 kB)\n",
            "Installing collected packages: ultralytics-thop, ultralytics\n",
            "Successfully installed ultralytics-8.3.39 ultralytics-thop-2.0.12\n"
          ]
        }
      ]
    },
    {
      "cell_type": "markdown",
      "source": [
        "## Convert Model into Float 16 and 32"
      ],
      "metadata": {
        "id": "8pqY3bN6dawv"
      }
    },
    {
      "cell_type": "code",
      "source": [
        "from ultralytics import YOLO\n",
        "\n",
        "# Load the pt model.\n",
        "model = YOLO('/content/drive/MyDrive/perso/yolov8_tflite/raw_models/best.pt')\n",
        "\n",
        "# Export the model to TFLite format\n",
        "model.export(format=\"tflite\", int8=False)"
      ],
      "metadata": {
        "colab": {
          "base_uri": "https://localhost:8080/",
          "height": 1000
        },
        "id": "odP3gFi-Zkfo",
        "outputId": "44e5da4b-a929-4e47-eab4-ef4238e25957"
      },
      "execution_count": null,
      "outputs": [
        {
          "output_type": "stream",
          "name": "stdout",
          "text": [
            "Creating new Ultralytics Settings v0.0.6 file ✅ \n",
            "View Ultralytics Settings with 'yolo settings' or at '/root/.config/Ultralytics/settings.json'\n",
            "Update Settings with 'yolo settings key=value', i.e. 'yolo settings runs_dir=path/to/dir'. For help see https://docs.ultralytics.com/quickstart/#ultralytics-settings.\n",
            "Ultralytics 8.3.39 🚀 Python-3.10.12 torch-2.5.1+cu121 CPU (Intel Xeon 2.20GHz)\n",
            "YOLOv8n-cls summary (fused): 73 layers, 1,442,566 parameters, 0 gradients, 3.3 GFLOPs\n",
            "\n",
            "\u001b[34m\u001b[1mPyTorch:\u001b[0m starting from '/content/drive/MyDrive/perso/yolov8_tflite/raw_models/best.pt' with input shape (1, 3, 640, 640) BCHW and output shape(s) (1, 6) (2.8 MB)\n",
            "\u001b[31m\u001b[1mrequirements:\u001b[0m Ultralytics requirements ['sng4onnx>=1.0.1', 'onnx_graphsurgeon>=0.3.26', 'onnx>=1.12.0', 'onnx2tf>1.17.5,<=1.22.3', 'onnxslim>=0.1.31', 'tflite_support', 'onnxruntime'] not found, attempting AutoUpdate...\n",
            "Looking in indexes: https://pypi.org/simple, https://pypi.ngc.nvidia.com\n",
            "Collecting sng4onnx>=1.0.1\n",
            "  Downloading sng4onnx-1.0.4-py3-none-any.whl.metadata (4.6 kB)\n",
            "Collecting onnx_graphsurgeon>=0.3.26\n",
            "  Downloading onnx_graphsurgeon-0.5.2-py2.py3-none-any.whl.metadata (8.1 kB)\n",
            "Collecting onnx>=1.12.0\n",
            "  Downloading onnx-1.17.0-cp310-cp310-manylinux_2_17_x86_64.manylinux2014_x86_64.whl.metadata (16 kB)\n",
            "Collecting onnx2tf<=1.22.3,>1.17.5\n",
            "  Downloading onnx2tf-1.22.3-py3-none-any.whl.metadata (136 kB)\n",
            "     ━━━━━━━━━━━━━━━━━━━━━━━━━━━━━━━━━━━━━━━━ 136.6/136.6 kB 5.4 MB/s eta 0:00:00\n",
            "Collecting onnxslim>=0.1.31\n",
            "  Downloading onnxslim-0.1.42-py3-none-any.whl.metadata (4.2 kB)\n",
            "Collecting tflite_support\n",
            "  Downloading tflite_support-0.4.4-cp310-cp310-manylinux2014_x86_64.whl.metadata (2.4 kB)\n",
            "Collecting onnxruntime\n",
            "  Downloading onnxruntime-1.20.1-cp310-cp310-manylinux_2_27_x86_64.manylinux_2_28_x86_64.whl.metadata (4.5 kB)\n",
            "Requirement already satisfied: numpy in /usr/local/lib/python3.10/dist-packages (from onnx_graphsurgeon>=0.3.26) (1.26.4)\n",
            "Requirement already satisfied: protobuf>=3.20.2 in /usr/local/lib/python3.10/dist-packages (from onnx>=1.12.0) (4.25.5)\n",
            "Requirement already satisfied: sympy in /usr/local/lib/python3.10/dist-packages (from onnxslim>=0.1.31) (1.13.1)\n",
            "Requirement already satisfied: packaging in /usr/local/lib/python3.10/dist-packages (from onnxslim>=0.1.31) (24.2)\n",
            "Requirement already satisfied: absl-py>=0.7.0 in /usr/local/lib/python3.10/dist-packages (from tflite_support) (1.4.0)\n",
            "Requirement already satisfied: flatbuffers>=2.0 in /usr/local/lib/python3.10/dist-packages (from tflite_support) (24.3.25)\n",
            "Collecting protobuf>=3.20.2 (from onnx>=1.12.0)\n",
            "  Downloading protobuf-3.20.3-cp310-cp310-manylinux_2_12_x86_64.manylinux2010_x86_64.whl.metadata (679 bytes)\n",
            "Collecting sounddevice>=0.4.4 (from tflite_support)\n",
            "  Downloading sounddevice-0.5.1-py3-none-any.whl.metadata (1.4 kB)\n",
            "Collecting pybind11>=2.6.0 (from tflite_support)\n",
            "  Downloading pybind11-2.13.6-py3-none-any.whl.metadata (9.5 kB)\n",
            "Collecting coloredlogs (from onnxruntime)\n",
            "  Downloading coloredlogs-15.0.1-py2.py3-none-any.whl.metadata (12 kB)\n",
            "Requirement already satisfied: CFFI>=1.0 in /usr/local/lib/python3.10/dist-packages (from sounddevice>=0.4.4->tflite_support) (1.17.1)\n",
            "Collecting humanfriendly>=9.1 (from coloredlogs->onnxruntime)\n",
            "  Downloading humanfriendly-10.0-py2.py3-none-any.whl.metadata (9.2 kB)\n",
            "Requirement already satisfied: mpmath<1.4,>=1.1.0 in /usr/local/lib/python3.10/dist-packages (from sympy->onnxslim>=0.1.31) (1.3.0)\n",
            "Requirement already satisfied: pycparser in /usr/local/lib/python3.10/dist-packages (from CFFI>=1.0->sounddevice>=0.4.4->tflite_support) (2.22)\n",
            "Downloading sng4onnx-1.0.4-py3-none-any.whl (5.9 kB)\n",
            "Downloading onnx_graphsurgeon-0.5.2-py2.py3-none-any.whl (56 kB)\n",
            "   ━━━━━━━━━━━━━━━━━━━━━━━━━━━━━━━━━━━━━━━━ 56.4/56.4 kB 207.5 MB/s eta 0:00:00\n",
            "Downloading onnx-1.17.0-cp310-cp310-manylinux_2_17_x86_64.manylinux2014_x86_64.whl (16.0 MB)\n",
            "   ━━━━━━━━━━━━━━━━━━━━━━━━━━━━━━━━━━━━━━━━ 16.0/16.0 MB 231.5 MB/s eta 0:00:00\n",
            "Downloading onnx2tf-1.22.3-py3-none-any.whl (435 kB)\n",
            "   ━━━━━━━━━━━━━━━━━━━━━━━━━━━━━━━━━━━━━━━━ 435.0/435.0 kB 217.4 MB/s eta 0:00:00\n",
            "Downloading onnxslim-0.1.42-py3-none-any.whl (142 kB)\n",
            "   ━━━━━━━━━━━━━━━━━━━━━━━━━━━━━━━━━━━━━━━━ 142.7/142.7 kB 222.2 MB/s eta 0:00:00\n",
            "Downloading tflite_support-0.4.4-cp310-cp310-manylinux2014_x86_64.whl (60.8 MB)\n",
            "   ━━━━━━━━━━━━━━━━━━━━━━━━━━━━━━━━━━━━━━━━ 60.8/60.8 MB 252.6 MB/s eta 0:00:00\n",
            "Downloading onnxruntime-1.20.1-cp310-cp310-manylinux_2_27_x86_64.manylinux_2_28_x86_64.whl (13.3 MB)\n",
            "   ━━━━━━━━━━━━━━━━━━━━━━━━━━━━━━━━━━━━━━━━ 13.3/13.3 MB 109.8 MB/s eta 0:00:00\n",
            "Downloading protobuf-3.20.3-cp310-cp310-manylinux_2_12_x86_64.manylinux2010_x86_64.whl (1.1 MB)\n",
            "   ━━━━━━━━━━━━━━━━━━━━━━━━━━━━━━━━━━━━━━━━ 1.1/1.1 MB 279.2 MB/s eta 0:00:00\n",
            "Downloading pybind11-2.13.6-py3-none-any.whl (243 kB)\n",
            "   ━━━━━━━━━━━━━━━━━━━━━━━━━━━━━━━━━━━━━━━━ 243.3/243.3 kB 181.4 MB/s eta 0:00:00\n",
            "Downloading sounddevice-0.5.1-py3-none-any.whl (32 kB)\n",
            "Downloading coloredlogs-15.0.1-py2.py3-none-any.whl (46 kB)\n",
            "   ━━━━━━━━━━━━━━━━━━━━━━━━━━━━━━━━━━━━━━━━ 46.0/46.0 kB 126.8 MB/s eta 0:00:00\n",
            "Downloading humanfriendly-10.0-py2.py3-none-any.whl (86 kB)\n",
            "   ━━━━━━━━━━━━━━━━━━━━━━━━━━━━━━━━━━━━━━━━ 86.8/86.8 kB 247.3 MB/s eta 0:00:00\n",
            "Installing collected packages: sng4onnx, pybind11, protobuf, onnx2tf, humanfriendly, sounddevice, onnx, coloredlogs, tflite_support, onnxslim, onnxruntime, onnx_graphsurgeon\n",
            "  Attempting uninstall: protobuf\n",
            "    Found existing installation: protobuf 4.25.5\n",
            "    Uninstalling protobuf-4.25.5:\n",
            "      Successfully uninstalled protobuf-4.25.5\n",
            "Successfully installed coloredlogs-15.0.1 humanfriendly-10.0 onnx-1.17.0 onnx2tf-1.22.3 onnx_graphsurgeon-0.5.2 onnxruntime-1.20.1 onnxslim-0.1.42 protobuf-3.20.3 pybind11-2.13.6 sng4onnx-1.0.4 sounddevice-0.5.1 tflite_support-0.4.4\n",
            "\n",
            "\u001b[31m\u001b[1mrequirements:\u001b[0m AutoUpdate success ✅ 20.0s, installed 7 packages: ['sng4onnx>=1.0.1', 'onnx_graphsurgeon>=0.3.26', 'onnx>=1.12.0', 'onnx2tf>1.17.5,<=1.22.3', 'onnxslim>=0.1.31', 'tflite_support', 'onnxruntime']\n",
            "\u001b[31m\u001b[1mrequirements:\u001b[0m ⚠️ \u001b[1mRestart runtime or rerun command for updates to take effect\u001b[0m\n",
            "\n",
            "\n",
            "\u001b[34m\u001b[1mTensorFlow SavedModel:\u001b[0m starting export with tensorflow 2.17.1...\n",
            "Downloading https://github.com/ultralytics/assets/releases/download/v8.3.0/calibration_image_sample_data_20x128x128x3_float32.npy.zip to 'calibration_image_sample_data_20x128x128x3_float32.npy.zip'...\n"
          ]
        },
        {
          "output_type": "stream",
          "name": "stderr",
          "text": [
            "100%|██████████| 1.11M/1.11M [00:00<00:00, 22.1MB/s]\n",
            "Unzipping calibration_image_sample_data_20x128x128x3_float32.npy.zip to /content/drive/MyDrive/perso/yolov8_tflite/calibration_image_sample_data_20x128x128x3_float32.npy...: 100%|██████████| 1/1 [00:00<00:00, 19.95file/s]"
          ]
        },
        {
          "output_type": "stream",
          "name": "stdout",
          "text": [
            "\n",
            "\u001b[34m\u001b[1mONNX:\u001b[0m starting export with onnx 1.17.0 opset 19...\n"
          ]
        },
        {
          "output_type": "stream",
          "name": "stderr",
          "text": [
            "\n"
          ]
        },
        {
          "output_type": "stream",
          "name": "stdout",
          "text": [
            "\u001b[34m\u001b[1mONNX:\u001b[0m slimming with onnxslim 0.1.42...\n",
            "\u001b[34m\u001b[1mONNX:\u001b[0m export success ✅ 0.8s, saved as '/content/drive/MyDrive/perso/yolov8_tflite/raw_models/best.onnx' (5.5 MB)\n",
            "\u001b[34m\u001b[1mTensorFlow SavedModel:\u001b[0m starting TFLite export with onnx2tf 1.22.3...\n",
            "\u001b[34m\u001b[1mTensorFlow SavedModel:\u001b[0m export success ✅ 36.5s, saved as '/content/drive/MyDrive/perso/yolov8_tflite/raw_models/best_saved_model' (13.9 MB)\n",
            "\n",
            "\u001b[34m\u001b[1mTensorFlow Lite:\u001b[0m starting export with tensorflow 2.17.1...\n",
            "\u001b[34m\u001b[1mTensorFlow Lite:\u001b[0m export success ✅ 0.0s, saved as '/content/drive/MyDrive/perso/yolov8_tflite/raw_models/best_saved_model/best_float32.tflite' (5.5 MB)\n",
            "\n",
            "Export complete (38.8s)\n",
            "Results saved to \u001b[1m/content/drive/MyDrive/perso/yolov8_tflite/raw_models\u001b[0m\n",
            "Predict:         yolo predict task=classify model=/content/drive/MyDrive/perso/yolov8_tflite/raw_models/best_saved_model/best_float32.tflite imgsz=640  \n",
            "Validate:        yolo val task=classify model=/content/drive/MyDrive/perso/yolov8_tflite/raw_models/best_saved_model/best_float32.tflite imgsz=640 data=C:/Users/savadogo_abdoul/Desktop/vit_crop/split_data_maize/  \n",
            "Visualize:       https://netron.app\n"
          ]
        },
        {
          "output_type": "execute_result",
          "data": {
            "text/plain": [
              "'/content/drive/MyDrive/perso/yolov8_tflite/raw_models/best_saved_model/best_float32.tflite'"
            ],
            "application/vnd.google.colaboratory.intrinsic+json": {
              "type": "string"
            }
          },
          "metadata": {},
          "execution_count": 16
        }
      ]
    },
    {
      "cell_type": "markdown",
      "source": [
        "# Maize"
      ],
      "metadata": {
        "id": "ZUG9E1vQgICY"
      }
    },
    {
      "cell_type": "code",
      "source": [
        "# Testing the new models\n",
        "# Load the exported TFLite model\n",
        "# It's important to mention the task: classification, detection...\n",
        "tflite_model_float_32 = YOLO(\"/content/drive/MyDrive/perso/yolov8_tflite/raw_models/best_saved_model/best_float32.tflite\", task='classify')\n",
        "\n",
        "tflite_model_float_16 = YOLO(\"/content/drive/MyDrive/perso/yolov8_tflite/raw_models/best_saved_model/best_float16.tflite\", task='classify')\n"
      ],
      "metadata": {
        "id": "J0GXLQWKZyef"
      },
      "execution_count": null,
      "outputs": []
    },
    {
      "cell_type": "code",
      "source": [
        "# Run inference with TFLite Float 32\n",
        "results = tflite_model_float_32(\"/content/drive/MyDrive/perso/yolov8_tflite/maize_test/Common Rust/Corn_Common_Rust (100).JPG\")\n",
        "labels_names = results[0].names\n",
        "pred_cls_idx = [result.probs.top1 for result in results]\n",
        "pred_cls_idx = pred_cls_idx[0]\n",
        "predicted_label = labels_names[pred_cls_idx]\n",
        "print(predicted_label)"
      ],
      "metadata": {
        "colab": {
          "base_uri": "https://localhost:8080/"
        },
        "id": "GjOjAnwja_Dy",
        "outputId": "fbc798b5-e248-4ee1-f72b-072a1c1fe67a"
      },
      "execution_count": null,
      "outputs": [
        {
          "output_type": "stream",
          "name": "stdout",
          "text": [
            "\n",
            "image 1/1 /content/drive/MyDrive/perso/yolov8_tflite/maize_test/Common Rust/Corn_Common_Rust (100).JPG: 640x640 Common Rust 1.00, Gray Leaf Spot 0.00, Maize Lethal Necrosis 0.00, Northern Leaf Spot 0.00, Maize Streak Virus 0.00, 88.4ms\n",
            "Speed: 16.4ms preprocess, 88.4ms inference, 0.1ms postprocess per image at shape (1, 3, 640, 640)\n",
            "Common Rust\n"
          ]
        }
      ]
    },
    {
      "cell_type": "code",
      "source": [
        "# Run inference with TFLite Float 16\n",
        "results = tflite_model_float_16(\"/content/drive/MyDrive/perso/yolov8_tflite/maize_test/Common Rust/Corn_Common_Rust (100).JPG\")\n",
        "labels_names = results[0].names\n",
        "pred_cls_idx = [result.probs.top1 for result in results]\n",
        "pred_cls_idx = pred_cls_idx[0]\n",
        "predicted_label = labels_names[pred_cls_idx]\n",
        "print(predicted_label)"
      ],
      "metadata": {
        "colab": {
          "base_uri": "https://localhost:8080/"
        },
        "id": "VRPPYePwbFHn",
        "outputId": "fe32f250-0e5d-4b51-8057-7ba1f46ad003"
      },
      "execution_count": null,
      "outputs": [
        {
          "output_type": "stream",
          "name": "stdout",
          "text": [
            "Loading /content/drive/MyDrive/perso/yolov8_tflite/raw_models/best_saved_model/best_float16.tflite for TensorFlow Lite inference...\n",
            "\n",
            "image 1/1 /content/drive/MyDrive/perso/yolov8_tflite/maize_test/Common Rust/Corn_Common_Rust (100).JPG: 640x640 Common Rust 1.00, Gray Leaf Spot 0.00, Maize Lethal Necrosis 0.00, Northern Leaf Spot 0.00, Maize Streak Virus 0.00, 96.2ms\n",
            "Speed: 16.8ms preprocess, 96.2ms inference, 0.1ms postprocess per image at shape (1, 3, 640, 640)\n",
            "Common Rust\n"
          ]
        }
      ]
    },
    {
      "cell_type": "markdown",
      "source": [
        "## Convert Model into Int8"
      ],
      "metadata": {
        "id": "-hv73GwFdgEL"
      }
    },
    {
      "cell_type": "code",
      "source": [
        "from ultralytics import YOLO\n",
        "\n",
        "# Load the model.\n",
        "model = YOLO('/content/drive/MyDrive/perso/yolov8_tflite/original_maize_model/best.pt')\n",
        "\n",
        "# Export the model to TFLite format\n",
        "model.export(format=\"tflite\", int8=True)"
      ],
      "metadata": {
        "colab": {
          "base_uri": "https://localhost:8080/",
          "height": 714
        },
        "id": "r4nRZcemcOLk",
        "outputId": "d6361efe-7f4e-4b3c-e4a8-27e35d67fdd5"
      },
      "execution_count": null,
      "outputs": [
        {
          "output_type": "stream",
          "name": "stdout",
          "text": [
            "Ultralytics 8.3.39 🚀 Python-3.10.12 torch-2.5.1+cu121 CPU (Intel Xeon 2.20GHz)\n",
            "WARNING ⚠️ INT8 export requires a missing 'data' arg for calibration. Using default 'data=imagenet10'.\n",
            "YOLOv8n-cls summary (fused): 73 layers, 1,442,566 parameters, 0 gradients, 3.3 GFLOPs\n",
            "\n",
            "\u001b[34m\u001b[1mPyTorch:\u001b[0m starting from '/content/drive/MyDrive/perso/yolov8_tflite/original_maize_model/best.pt' with input shape (1, 3, 640, 640) BCHW and output shape(s) (1, 6) (2.8 MB)\n",
            "\n",
            "\u001b[34m\u001b[1mTensorFlow SavedModel:\u001b[0m starting export with tensorflow 2.17.1...\n",
            "\n",
            "\u001b[34m\u001b[1mONNX:\u001b[0m starting export with onnx 1.17.0 opset 19...\n",
            "\u001b[34m\u001b[1mONNX:\u001b[0m slimming with onnxslim 0.1.42...\n",
            "\u001b[34m\u001b[1mONNX:\u001b[0m export success ✅ 0.6s, saved as '/content/drive/MyDrive/perso/yolov8_tflite/original_maize_model/best.onnx' (5.5 MB)\n",
            "\u001b[34m\u001b[1mTensorFlow SavedModel:\u001b[0m collecting INT8 calibration images from 'data=imagenet10'\n",
            "\n",
            "Dataset not found ⚠️, missing path /content/drive/MyDrive/perso/yolov8_tflite/datasets/imagenet10, attempting download...\n",
            "Downloading https://ultralytics.com/assets/imagenet10.zip to '/content/drive/MyDrive/perso/yolov8_tflite/datasets/imagenet10.zip'...\n"
          ]
        },
        {
          "output_type": "stream",
          "name": "stderr",
          "text": [
            "100%|██████████| 71.1k/71.1k [00:00<00:00, 4.81MB/s]\n",
            "Unzipping /content/drive/MyDrive/perso/yolov8_tflite/datasets/imagenet10.zip to /content/drive/MyDrive/perso/yolov8_tflite/datasets/imagenet10...: 100%|██████████| 24/24 [00:00<00:00, 79.47file/s]"
          ]
        },
        {
          "output_type": "stream",
          "name": "stdout",
          "text": [
            "Dataset download success ✅ (0.7s), saved to \u001b[1m/content/drive/MyDrive/perso/yolov8_tflite/datasets/imagenet10\u001b[0m\n",
            "\n"
          ]
        },
        {
          "output_type": "stream",
          "name": "stderr",
          "text": [
            "\n"
          ]
        },
        {
          "output_type": "stream",
          "name": "stdout",
          "text": [
            "\u001b[34m\u001b[1mtrain:\u001b[0m /content/drive/MyDrive/perso/yolov8_tflite/datasets/imagenet10/train... found 12 images in 10 classes ✅ \n",
            "\u001b[34m\u001b[1mval:\u001b[0m /content/drive/MyDrive/perso/yolov8_tflite/datasets/imagenet10/val... found 12 images in 10 classes ✅ \n",
            "\u001b[34m\u001b[1mtest:\u001b[0m None...\n"
          ]
        },
        {
          "output_type": "stream",
          "name": "stderr",
          "text": [
            "Scanning /content/drive/MyDrive/perso/yolov8_tflite/datasets/imagenet10/val/n01440764... 0 images, 12 backgrounds, 0 corrupt: 100%|██████████| 12/12 [00:00<00:00, 56.20it/s]"
          ]
        },
        {
          "output_type": "stream",
          "name": "stdout",
          "text": [
            "WARNING ⚠️ No labels found in /content/drive/MyDrive/perso/yolov8_tflite/datasets/imagenet10/val/n01440764.cache. See https://docs.ultralytics.com/datasets for dataset formatting guidance.\n",
            "New cache created: /content/drive/MyDrive/perso/yolov8_tflite/datasets/imagenet10/val/n01440764.cache\n",
            "WARNING ⚠️ No labels found in /content/drive/MyDrive/perso/yolov8_tflite/datasets/imagenet10/val/n01440764.cache, training may not work correctly. See https://docs.ultralytics.com/datasets for dataset formatting guidance.\n",
            "\u001b[34m\u001b[1mTensorFlow SavedModel:\u001b[0m WARNING ⚠️ >300 images recommended for INT8 calibration, found 12 images.\n"
          ]
        },
        {
          "output_type": "stream",
          "name": "stderr",
          "text": [
            "\n"
          ]
        },
        {
          "output_type": "stream",
          "name": "stdout",
          "text": [
            "\u001b[34m\u001b[1mTensorFlow SavedModel:\u001b[0m starting TFLite export with onnx2tf 1.22.3...\n",
            "\u001b[34m\u001b[1mTensorFlow SavedModel:\u001b[0m export success ✅ 80.4s, saved as '/content/drive/MyDrive/perso/yolov8_tflite/original_maize_model/best_saved_model' (18.3 MB)\n",
            "\n",
            "\u001b[34m\u001b[1mTensorFlow Lite:\u001b[0m starting export with tensorflow 2.17.1...\n",
            "\u001b[34m\u001b[1mTensorFlow Lite:\u001b[0m export success ✅ 0.0s, saved as '/content/drive/MyDrive/perso/yolov8_tflite/original_maize_model/best_saved_model/best_int8.tflite' (1.4 MB)\n",
            "\n",
            "Export complete (80.8s)\n",
            "Results saved to \u001b[1m/content/drive/MyDrive/perso/yolov8_tflite/original_maize_model\u001b[0m\n",
            "Predict:         yolo predict task=classify model=/content/drive/MyDrive/perso/yolov8_tflite/original_maize_model/best_saved_model/best_int8.tflite imgsz=640 int8 \n",
            "Validate:        yolo val task=classify model=/content/drive/MyDrive/perso/yolov8_tflite/original_maize_model/best_saved_model/best_int8.tflite imgsz=640 data=C:/Users/savadogo_abdoul/Desktop/vit_crop/split_data_maize/ int8 \n",
            "Visualize:       https://netron.app\n"
          ]
        },
        {
          "output_type": "execute_result",
          "data": {
            "text/plain": [
              "'/content/drive/MyDrive/perso/yolov8_tflite/original_maize_model/best_saved_model/best_int8.tflite'"
            ],
            "application/vnd.google.colaboratory.intrinsic+json": {
              "type": "string"
            }
          },
          "metadata": {},
          "execution_count": 25
        }
      ]
    },
    {
      "cell_type": "code",
      "source": [
        "# Run inference with TFLite Int 8\n",
        "tflite_model_int_8 = YOLO(\"/content/drive/MyDrive/perso/yolov8_tflite/original_maize_model/best_saved_model/best_int8.tflite\", task='classify')\n",
        "\n",
        "results = tflite_model_int_8(\"/content/drive/MyDrive/perso/yolov8_tflite/maize_test/Common Rust/Corn_Common_Rust (100).JPG\")\n",
        "labels_names = results[0].names\n",
        "pred_cls_idx = [result.probs.top1 for result in results]\n",
        "pred_cls_idx = pred_cls_idx[0]\n",
        "predicted_label = labels_names[pred_cls_idx]\n",
        "print(predicted_label)"
      ],
      "metadata": {
        "colab": {
          "base_uri": "https://localhost:8080/"
        },
        "id": "OzGb7-Hydx5C",
        "outputId": "040907de-c1b9-475e-b532-8a6168c581f3"
      },
      "execution_count": null,
      "outputs": [
        {
          "output_type": "stream",
          "name": "stdout",
          "text": [
            "Loading /content/drive/MyDrive/perso/yolov8_tflite/original_maize_model/best_saved_model/best_int8.tflite for TensorFlow Lite inference...\n",
            "\n",
            "image 1/1 /content/drive/MyDrive/perso/yolov8_tflite/maize_test/Common Rust/Corn_Common_Rust (100).JPG: 640x640 Common Rust 1.00, Gray Leaf Spot 0.00, Maize Lethal Necrosis 0.00, Northern Leaf Spot 0.00, Maize Streak Virus 0.00, 121.8ms\n",
            "Speed: 20.5ms preprocess, 121.8ms inference, 0.2ms postprocess per image at shape (1, 3, 640, 640)\n",
            "Common Rust\n"
          ]
        }
      ]
    },
    {
      "cell_type": "code",
      "source": [],
      "metadata": {
        "id": "-X6Tf0aLevxy"
      },
      "execution_count": null,
      "outputs": []
    },
    {
      "cell_type": "markdown",
      "source": [
        "# Tomato"
      ],
      "metadata": {
        "id": "u1Qr4bzDgKbA"
      }
    },
    {
      "cell_type": "code",
      "source": [
        "from ultralytics import YOLO\n",
        "\n",
        "# Load the model.\n",
        "model = YOLO('/content/drive/MyDrive/perso/yolov8_tflite/original_tomato_model/best.pt')\n",
        "\n",
        "# Export the model to TFLite format\n",
        "model.export(format=\"tflite\", int8=True)"
      ],
      "metadata": {
        "colab": {
          "base_uri": "https://localhost:8080/",
          "height": 558
        },
        "id": "o_BL0_fogLiu",
        "outputId": "57dbbd36-3b16-4305-8770-14db539f7dfb"
      },
      "execution_count": null,
      "outputs": [
        {
          "output_type": "stream",
          "name": "stdout",
          "text": [
            "Ultralytics 8.3.39 🚀 Python-3.10.12 torch-2.5.1+cu121 CPU (Intel Xeon 2.20GHz)\n",
            "WARNING ⚠️ INT8 export requires a missing 'data' arg for calibration. Using default 'data=imagenet10'.\n",
            "YOLOv8n-cls summary (fused): 73 layers, 1,448,971 parameters, 0 gradients, 3.3 GFLOPs\n",
            "\n",
            "\u001b[34m\u001b[1mPyTorch:\u001b[0m starting from '/content/drive/MyDrive/perso/yolov8_tflite/original_tomato_model/best.pt' with input shape (1, 3, 640, 640) BCHW and output shape(s) (1, 11) (2.9 MB)\n",
            "\n",
            "\u001b[34m\u001b[1mTensorFlow SavedModel:\u001b[0m starting export with tensorflow 2.17.1...\n",
            "\n",
            "\u001b[34m\u001b[1mONNX:\u001b[0m starting export with onnx 1.17.0 opset 19...\n",
            "\u001b[34m\u001b[1mONNX:\u001b[0m slimming with onnxslim 0.1.42...\n",
            "\u001b[34m\u001b[1mONNX:\u001b[0m export success ✅ 0.6s, saved as '/content/drive/MyDrive/perso/yolov8_tflite/original_tomato_model/best.onnx' (5.6 MB)\n",
            "\u001b[34m\u001b[1mTensorFlow SavedModel:\u001b[0m collecting INT8 calibration images from 'data=imagenet10'\n",
            "\u001b[34m\u001b[1mtrain:\u001b[0m /content/drive/MyDrive/perso/yolov8_tflite/datasets/imagenet10/train... found 12 images in 10 classes ✅ \n",
            "\u001b[34m\u001b[1mval:\u001b[0m /content/drive/MyDrive/perso/yolov8_tflite/datasets/imagenet10/val... found 12 images in 10 classes ✅ \n",
            "\u001b[34m\u001b[1mtest:\u001b[0m None...\n"
          ]
        },
        {
          "output_type": "stream",
          "name": "stderr",
          "text": [
            "Scanning /content/drive/MyDrive/perso/yolov8_tflite/datasets/imagenet10/val/n01440764.cache... 0 images, 12 backgrounds, 0 corrupt: 100%|██████████| 12/12 [00:00<?, ?it/s]"
          ]
        },
        {
          "output_type": "stream",
          "name": "stdout",
          "text": [
            "WARNING ⚠️ No labels found in /content/drive/MyDrive/perso/yolov8_tflite/datasets/imagenet10/val/n01440764.cache, training may not work correctly. See https://docs.ultralytics.com/datasets for dataset formatting guidance.\n",
            "\u001b[34m\u001b[1mTensorFlow SavedModel:\u001b[0m WARNING ⚠️ >300 images recommended for INT8 calibration, found 12 images.\n"
          ]
        },
        {
          "output_type": "stream",
          "name": "stderr",
          "text": [
            "\n"
          ]
        },
        {
          "output_type": "stream",
          "name": "stdout",
          "text": [
            "\u001b[34m\u001b[1mTensorFlow SavedModel:\u001b[0m starting TFLite export with onnx2tf 1.22.3...\n",
            "\u001b[34m\u001b[1mTensorFlow SavedModel:\u001b[0m export success ✅ 78.6s, saved as '/content/drive/MyDrive/perso/yolov8_tflite/original_tomato_model/best_saved_model' (18.3 MB)\n",
            "\n",
            "\u001b[34m\u001b[1mTensorFlow Lite:\u001b[0m starting export with tensorflow 2.17.1...\n",
            "\u001b[34m\u001b[1mTensorFlow Lite:\u001b[0m export success ✅ 0.0s, saved as '/content/drive/MyDrive/perso/yolov8_tflite/original_tomato_model/best_saved_model/best_int8.tflite' (1.4 MB)\n",
            "\n",
            "Export complete (78.9s)\n",
            "Results saved to \u001b[1m/content/drive/MyDrive/perso/yolov8_tflite/original_tomato_model\u001b[0m\n",
            "Predict:         yolo predict task=classify model=/content/drive/MyDrive/perso/yolov8_tflite/original_tomato_model/best_saved_model/best_int8.tflite imgsz=640 int8 \n",
            "Validate:        yolo val task=classify model=/content/drive/MyDrive/perso/yolov8_tflite/original_tomato_model/best_saved_model/best_int8.tflite imgsz=640 data=C:/Users/savadogo_abdoul/Desktop/test_gpu/split_data/ int8 \n",
            "Visualize:       https://netron.app\n"
          ]
        },
        {
          "output_type": "execute_result",
          "data": {
            "text/plain": [
              "'/content/drive/MyDrive/perso/yolov8_tflite/original_tomato_model/best_saved_model/best_int8.tflite'"
            ],
            "application/vnd.google.colaboratory.intrinsic+json": {
              "type": "string"
            }
          },
          "metadata": {},
          "execution_count": 28
        }
      ]
    },
    {
      "cell_type": "code",
      "source": [
        "# Run inference with TFLite Int 8\n",
        "tflite_model_int_8 = YOLO(\"/content/drive/MyDrive/perso/yolov8_tflite/original_maize_model/best_saved_model/best_int8.tflite\", task='classify')\n",
        "\n",
        "results = tflite_model_int_8(\"/content/drive/MyDrive/perso/yolov8_tflite/maize_test/Common Rust/Corn_Common_Rust (100).JPG\")\n",
        "labels_names = results[0].names\n",
        "pred_cls_idx = [result.probs.top1 for result in results]\n",
        "pred_cls_idx = pred_cls_idx[0]\n",
        "predicted_label = labels_names[pred_cls_idx]\n",
        "print(predicted_label)"
      ],
      "metadata": {
        "id": "61mQgi91gZL4"
      },
      "execution_count": null,
      "outputs": []
    },
    {
      "cell_type": "markdown",
      "source": [
        "# Beans"
      ],
      "metadata": {
        "id": "lyKaJQ3giXA5"
      }
    },
    {
      "cell_type": "code",
      "source": [
        "from ultralytics import YOLO\n",
        "\n",
        "# Load the model.\n",
        "model = YOLO('/content/drive/MyDrive/perso/yolov8_tflite/original_beans_model/beans_best_model.pt')\n",
        "\n",
        "# Export the model to TFLite format\n",
        "model.export(format=\"tflite\", int8=False)"
      ],
      "metadata": {
        "colab": {
          "base_uri": "https://localhost:8080/",
          "height": 419
        },
        "id": "WNZqiFYYiYFm",
        "outputId": "355c497c-385e-4dbc-8172-7e92bf599206"
      },
      "execution_count": 1,
      "outputs": [
        {
          "output_type": "stream",
          "name": "stdout",
          "text": [
            "Ultralytics 8.3.39 🚀 Python-3.10.12 torch-2.5.1+cu121 CPU (Intel Xeon 2.20GHz)\n",
            "YOLO11n-cls summary (fused): 112 layers, 1,529,867 parameters, 0 gradients, 3.2 GFLOPs\n",
            "\n",
            "\u001b[34m\u001b[1mPyTorch:\u001b[0m starting from '/content/drive/MyDrive/perso/yolov8_tflite/original_beans_model/beans_best_model.pt' with input shape (1, 3, 640, 640) BCHW and output shape(s) (1, 3) (3.0 MB)\n",
            "\n",
            "\u001b[34m\u001b[1mTensorFlow SavedModel:\u001b[0m starting export with tensorflow 2.17.1...\n",
            "\n",
            "\u001b[34m\u001b[1mONNX:\u001b[0m starting export with onnx 1.17.0 opset 19...\n",
            "\u001b[34m\u001b[1mONNX:\u001b[0m slimming with onnxslim 0.1.42...\n",
            "\u001b[34m\u001b[1mONNX:\u001b[0m export success ✅ 1.1s, saved as '/content/drive/MyDrive/perso/yolov8_tflite/original_beans_model/beans_best_model.onnx' (5.9 MB)\n",
            "\u001b[34m\u001b[1mTensorFlow SavedModel:\u001b[0m starting TFLite export with onnx2tf 1.22.3...\n",
            "\u001b[34m\u001b[1mTensorFlow SavedModel:\u001b[0m export success ✅ 24.3s, saved as '/content/drive/MyDrive/perso/yolov8_tflite/original_beans_model/beans_best_model_saved_model' (14.9 MB)\n",
            "\n",
            "\u001b[34m\u001b[1mTensorFlow Lite:\u001b[0m starting export with tensorflow 2.17.1...\n",
            "\u001b[34m\u001b[1mTensorFlow Lite:\u001b[0m export success ✅ 0.0s, saved as '/content/drive/MyDrive/perso/yolov8_tflite/original_beans_model/beans_best_model_saved_model/beans_best_model_float32.tflite' (5.9 MB)\n",
            "\n",
            "Export complete (25.0s)\n",
            "Results saved to \u001b[1m/content/drive/MyDrive/perso/yolov8_tflite/original_beans_model\u001b[0m\n",
            "Predict:         yolo predict task=classify model=/content/drive/MyDrive/perso/yolov8_tflite/original_beans_model/beans_best_model_saved_model/beans_best_model_float32.tflite imgsz=640  \n",
            "Validate:        yolo val task=classify model=/content/drive/MyDrive/perso/yolov8_tflite/original_beans_model/beans_best_model_saved_model/beans_best_model_float32.tflite imgsz=640 data=./beans_split_dataset/  \n",
            "Visualize:       https://netron.app\n"
          ]
        },
        {
          "output_type": "execute_result",
          "data": {
            "text/plain": [
              "'/content/drive/MyDrive/perso/yolov8_tflite/original_beans_model/beans_best_model_saved_model/beans_best_model_float32.tflite'"
            ],
            "application/vnd.google.colaboratory.intrinsic+json": {
              "type": "string"
            }
          },
          "metadata": {},
          "execution_count": 1
        }
      ]
    },
    {
      "cell_type": "code",
      "source": [
        "# Run inference with TFLite Int 8\n",
        "tflite_model_int_8 = YOLO(\"/content/drive/MyDrive/perso/yolov8_tflite/original_maize_model/best_saved_model/best_int8.tflite\", task='classify')\n",
        "\n",
        "results = tflite_model_int_8(\"/content/drive/MyDrive/perso/yolov8_tflite/maize_test/Common Rust/Corn_Common_Rust (100).JPG\")\n",
        "labels_names = results[0].names\n",
        "pred_cls_idx = [result.probs.top1 for result in results]\n",
        "pred_cls_idx = pred_cls_idx[0]\n",
        "predicted_label = labels_names[pred_cls_idx]\n",
        "print(predicted_label)"
      ],
      "metadata": {
        "id": "eJIft9MGid5e"
      },
      "execution_count": null,
      "outputs": []
    },
    {
      "cell_type": "markdown",
      "source": [
        "# Cassava"
      ],
      "metadata": {
        "id": "xJYdldQCifXT"
      }
    },
    {
      "cell_type": "code",
      "source": [
        "from ultralytics import YOLO\n",
        "\n",
        "# Load the model.\n",
        "model = YOLO('/content/drive/MyDrive/perso/yolov8_tflite/original_cassava_model/cassava_best_model.pt')\n",
        "\n",
        "# Export the model to TFLite format\n",
        "model.export(format=\"tflite\", int8=True)"
      ],
      "metadata": {
        "colab": {
          "base_uri": "https://localhost:8080/",
          "height": 576
        },
        "id": "viwnzalDiiCP",
        "outputId": "132ec01a-8a1f-40f6-8cb2-e85160c8a3b8"
      },
      "execution_count": null,
      "outputs": [
        {
          "output_type": "stream",
          "name": "stdout",
          "text": [
            "Ultralytics 8.3.39 🚀 Python-3.10.12 torch-2.5.1+cu121 CPU (Intel Xeon 2.20GHz)\n",
            "WARNING ⚠️ INT8 export requires a missing 'data' arg for calibration. Using default 'data=imagenet10'.\n",
            "YOLO11n-cls summary (fused): 112 layers, 1,532,429 parameters, 0 gradients, 3.2 GFLOPs\n",
            "\n",
            "\u001b[34m\u001b[1mPyTorch:\u001b[0m starting from '/content/drive/MyDrive/perso/yolov8_tflite/original_cassava_model/cassava_best_model.pt' with input shape (1, 3, 640, 640) BCHW and output shape(s) (1, 5) (3.0 MB)\n",
            "\n",
            "\u001b[34m\u001b[1mTensorFlow SavedModel:\u001b[0m starting export with tensorflow 2.17.1...\n",
            "\n",
            "\u001b[34m\u001b[1mONNX:\u001b[0m starting export with onnx 1.17.0 opset 19...\n",
            "\u001b[34m\u001b[1mONNX:\u001b[0m slimming with onnxslim 0.1.42...\n",
            "\u001b[34m\u001b[1mONNX:\u001b[0m export success ✅ 1.4s, saved as '/content/drive/MyDrive/perso/yolov8_tflite/original_cassava_model/cassava_best_model.onnx' (5.9 MB)\n",
            "\u001b[34m\u001b[1mTensorFlow SavedModel:\u001b[0m collecting INT8 calibration images from 'data=imagenet10'\n",
            "\u001b[34m\u001b[1mtrain:\u001b[0m /content/drive/MyDrive/perso/yolov8_tflite/datasets/imagenet10/train... found 12 images in 10 classes ✅ \n",
            "\u001b[34m\u001b[1mval:\u001b[0m /content/drive/MyDrive/perso/yolov8_tflite/datasets/imagenet10/val... found 12 images in 10 classes ✅ \n",
            "\u001b[34m\u001b[1mtest:\u001b[0m None...\n"
          ]
        },
        {
          "output_type": "stream",
          "name": "stderr",
          "text": [
            "Scanning /content/drive/MyDrive/perso/yolov8_tflite/datasets/imagenet10/val/n01440764.cache... 0 images, 12 backgrounds, 0 corrupt: 100%|██████████| 12/12 [00:00<?, ?it/s]"
          ]
        },
        {
          "output_type": "stream",
          "name": "stdout",
          "text": [
            "WARNING ⚠️ No labels found in /content/drive/MyDrive/perso/yolov8_tflite/datasets/imagenet10/val/n01440764.cache, training may not work correctly. See https://docs.ultralytics.com/datasets for dataset formatting guidance.\n",
            "\u001b[34m\u001b[1mTensorFlow SavedModel:\u001b[0m WARNING ⚠️ >300 images recommended for INT8 calibration, found 12 images.\n"
          ]
        },
        {
          "output_type": "stream",
          "name": "stderr",
          "text": [
            "\n"
          ]
        },
        {
          "output_type": "stream",
          "name": "stdout",
          "text": [
            "\u001b[34m\u001b[1mTensorFlow SavedModel:\u001b[0m starting TFLite export with onnx2tf 1.22.3...\n",
            "\u001b[34m\u001b[1mTensorFlow SavedModel:\u001b[0m export success ✅ 104.5s, saved as '/content/drive/MyDrive/perso/yolov8_tflite/original_cassava_model/cassava_best_model_saved_model' (21.0 MB)\n",
            "\n",
            "\u001b[34m\u001b[1mTensorFlow Lite:\u001b[0m starting export with tensorflow 2.17.1...\n",
            "\u001b[34m\u001b[1mTensorFlow Lite:\u001b[0m export success ✅ 0.0s, saved as '/content/drive/MyDrive/perso/yolov8_tflite/original_cassava_model/cassava_best_model_saved_model/cassava_best_model_int8.tflite' (1.6 MB)\n",
            "\n",
            "Export complete (105.2s)\n",
            "Results saved to \u001b[1m/content/drive/MyDrive/perso/yolov8_tflite/original_cassava_model\u001b[0m\n",
            "Predict:         yolo predict task=classify model=/content/drive/MyDrive/perso/yolov8_tflite/original_cassava_model/cassava_best_model_saved_model/cassava_best_model_int8.tflite imgsz=640 int8 \n",
            "Validate:        yolo val task=classify model=/content/drive/MyDrive/perso/yolov8_tflite/original_cassava_model/cassava_best_model_saved_model/cassava_best_model_int8.tflite imgsz=640 data=./cassava_split_data/ int8 \n",
            "Visualize:       https://netron.app\n"
          ]
        },
        {
          "output_type": "execute_result",
          "data": {
            "text/plain": [
              "'/content/drive/MyDrive/perso/yolov8_tflite/original_cassava_model/cassava_best_model_saved_model/cassava_best_model_int8.tflite'"
            ],
            "application/vnd.google.colaboratory.intrinsic+json": {
              "type": "string"
            }
          },
          "metadata": {},
          "execution_count": 29
        }
      ]
    },
    {
      "cell_type": "code",
      "source": [
        "# Run inference with TFLite Int 8\n",
        "tflite_model_int_8 = YOLO(\"/content/drive/MyDrive/perso/yolov8_tflite/original_maize_model/best_saved_model/best_int8.tflite\", task='classify')\n",
        "\n",
        "results = tflite_model_int_8(\"/content/drive/MyDrive/perso/yolov8_tflite/maize_test/Common Rust/Corn_Common_Rust (100).JPG\")\n",
        "labels_names = results[0].names\n",
        "pred_cls_idx = [result.probs.top1 for result in results]\n",
        "pred_cls_idx = pred_cls_idx[0]\n",
        "predicted_label = labels_names[pred_cls_idx]\n",
        "print(predicted_label)"
      ],
      "metadata": {
        "id": "qVNv-_5aiglC"
      },
      "execution_count": null,
      "outputs": []
    }
  ]
}