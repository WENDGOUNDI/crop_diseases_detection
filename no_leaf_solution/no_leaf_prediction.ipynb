{
 "cells": [
  {
   "cell_type": "markdown",
   "metadata": {},
   "source": [
    "Testing the no_leaf scenario with beans dataset"
   ]
  },
  {
   "cell_type": "code",
   "execution_count": 1,
   "metadata": {},
   "outputs": [],
   "source": [
    "# Libraries importation\n",
    "from ultralytics import YOLO\n",
    "\n",
    "model = YOLO(r\"./runs/classify/train/weights/best.pt\")  # Load model\n"
   ]
  },
  {
   "cell_type": "code",
   "execution_count": 2,
   "metadata": {},
   "outputs": [],
   "source": [
    "def cropPrediction(model, input_image):\n",
    "  \"\"\" \n",
    "  function for predicting crop disease\n",
    "  Input Parameters:\n",
    "  model --> the trained model for prediction --> .pt file\n",
    "  input_image --> image path of the image to be predicted --> str\n",
    "  Output:\n",
    "  predicted_label --> returning the crop disease --> str\n",
    "  \"\"\"\n",
    "  # Predict with the model\n",
    "  results = model.predict(input_image, save=False, verbose=False)\n",
    "  labels_names = results[0].names\n",
    "  pred_cls_idx = [result.probs.top1 for result in results]\n",
    "  pred_cls_idx = pred_cls_idx[0]\n",
    "  predicted_label = labels_names[pred_cls_idx]\n",
    "  if predicted_label == 'no_leave': # catching up the no_leave typo\n",
    "    predicted_label = 'no_leaf'\n",
    "  return predicted_label\n"
   ]
  },
  {
   "cell_type": "code",
   "execution_count": null,
   "metadata": {},
   "outputs": [
    {
     "name": "stdout",
     "output_type": "stream",
     "text": [
      "Predicted Label: no_leaf\n"
     ]
    }
   ],
   "source": [
    "predImage = \"./test1.JPG\"\n",
    "predlabel = cropPrediction(model, predImage)\n",
    "print(f\"Predicted Label: {predlabel}\")"
   ]
  },
  {
   "cell_type": "code",
   "execution_count": null,
   "metadata": {},
   "outputs": [],
   "source": []
  }
 ],
 "metadata": {
  "kernelspec": {
   "display_name": "trainenv",
   "language": "python",
   "name": "python3"
  },
  "language_info": {
   "codemirror_mode": {
    "name": "ipython",
    "version": 3
   },
   "file_extension": ".py",
   "mimetype": "text/x-python",
   "name": "python",
   "nbconvert_exporter": "python",
   "pygments_lexer": "ipython3",
   "version": "3.12.7"
  }
 },
 "nbformat": 4,
 "nbformat_minor": 2
}
