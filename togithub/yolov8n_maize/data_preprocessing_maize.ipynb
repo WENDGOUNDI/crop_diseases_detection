{
 "cells": [
  {
   "cell_type": "code",
   "execution_count": null,
   "metadata": {},
   "outputs": [],
   "source": [
    "# Libraries importation\n",
    "import pandas as pd\n",
    "import os\n",
    "import shutil\n",
    "from glob import glob\n",
    "import matplotlib.pyplot as plt\n",
    "import seaborn as sns\n",
    "import splitfolders\n"
   ]
  },
  {
   "cell_type": "code",
   "execution_count": 2,
   "metadata": {},
   "outputs": [
    {
     "data": {
      "text/html": [
       "<div>\n",
       "<style scoped>\n",
       "    .dataframe tbody tr th:only-of-type {\n",
       "        vertical-align: middle;\n",
       "    }\n",
       "\n",
       "    .dataframe tbody tr th {\n",
       "        vertical-align: top;\n",
       "    }\n",
       "\n",
       "    .dataframe thead th {\n",
       "        text-align: right;\n",
       "    }\n",
       "</style>\n",
       "<table border=\"1\" class=\"dataframe\">\n",
       "  <thead>\n",
       "    <tr style=\"text-align: right;\">\n",
       "      <th></th>\n",
       "      <th>path</th>\n",
       "      <th>datapoint_id</th>\n",
       "      <th>dagshub_download_url</th>\n",
       "      <th>Valid</th>\n",
       "      <th>disease</th>\n",
       "      <th>height</th>\n",
       "      <th>media type</th>\n",
       "      <th>size</th>\n",
       "      <th>width</th>\n",
       "    </tr>\n",
       "  </thead>\n",
       "  <tbody>\n",
       "    <tr>\n",
       "      <th>0</th>\n",
       "      <td>Bacterial spot/Bs100.JPG</td>\n",
       "      <td>81502719</td>\n",
       "      <td>https://dagshub.com/api/v1/repos/Omdena/KenyaC...</td>\n",
       "      <td>True</td>\n",
       "      <td>Bacterial Spot</td>\n",
       "      <td>227</td>\n",
       "      <td>image/jpeg</td>\n",
       "      <td>9550</td>\n",
       "      <td>227</td>\n",
       "    </tr>\n",
       "    <tr>\n",
       "      <th>1</th>\n",
       "      <td>Bacterial spot/Bs101.JPG</td>\n",
       "      <td>81502720</td>\n",
       "      <td>https://dagshub.com/api/v1/repos/Omdena/KenyaC...</td>\n",
       "      <td>True</td>\n",
       "      <td>Bacterial Spot</td>\n",
       "      <td>227</td>\n",
       "      <td>image/jpeg</td>\n",
       "      <td>8386</td>\n",
       "      <td>227</td>\n",
       "    </tr>\n",
       "    <tr>\n",
       "      <th>2</th>\n",
       "      <td>Bacterial spot/Bs102.JPG</td>\n",
       "      <td>81502721</td>\n",
       "      <td>https://dagshub.com/api/v1/repos/Omdena/KenyaC...</td>\n",
       "      <td>True</td>\n",
       "      <td>Bacterial Spot</td>\n",
       "      <td>227</td>\n",
       "      <td>image/jpeg</td>\n",
       "      <td>10309</td>\n",
       "      <td>227</td>\n",
       "    </tr>\n",
       "    <tr>\n",
       "      <th>3</th>\n",
       "      <td>Bacterial spot/Bs103.JPG</td>\n",
       "      <td>81502722</td>\n",
       "      <td>https://dagshub.com/api/v1/repos/Omdena/KenyaC...</td>\n",
       "      <td>True</td>\n",
       "      <td>Bacterial Spot</td>\n",
       "      <td>227</td>\n",
       "      <td>image/jpeg</td>\n",
       "      <td>10036</td>\n",
       "      <td>227</td>\n",
       "    </tr>\n",
       "    <tr>\n",
       "      <th>4</th>\n",
       "      <td>Bacterial spot/Bs104.JPG</td>\n",
       "      <td>81502723</td>\n",
       "      <td>https://dagshub.com/api/v1/repos/Omdena/KenyaC...</td>\n",
       "      <td>True</td>\n",
       "      <td>Bacterial Spot</td>\n",
       "      <td>227</td>\n",
       "      <td>image/jpeg</td>\n",
       "      <td>9845</td>\n",
       "      <td>227</td>\n",
       "    </tr>\n",
       "  </tbody>\n",
       "</table>\n",
       "</div>"
      ],
      "text/plain": [
       "                       path  datapoint_id  \\\n",
       "0  Bacterial spot/Bs100.JPG      81502719   \n",
       "1  Bacterial spot/Bs101.JPG      81502720   \n",
       "2  Bacterial spot/Bs102.JPG      81502721   \n",
       "3  Bacterial spot/Bs103.JPG      81502722   \n",
       "4  Bacterial spot/Bs104.JPG      81502723   \n",
       "\n",
       "                                dagshub_download_url  Valid         disease  \\\n",
       "0  https://dagshub.com/api/v1/repos/Omdena/KenyaC...   True  Bacterial Spot   \n",
       "1  https://dagshub.com/api/v1/repos/Omdena/KenyaC...   True  Bacterial Spot   \n",
       "2  https://dagshub.com/api/v1/repos/Omdena/KenyaC...   True  Bacterial Spot   \n",
       "3  https://dagshub.com/api/v1/repos/Omdena/KenyaC...   True  Bacterial Spot   \n",
       "4  https://dagshub.com/api/v1/repos/Omdena/KenyaC...   True  Bacterial Spot   \n",
       "\n",
       "   height  media type   size  width  \n",
       "0     227  image/jpeg   9550    227  \n",
       "1     227  image/jpeg   8386    227  \n",
       "2     227  image/jpeg  10309    227  \n",
       "3     227  image/jpeg  10036    227  \n",
       "4     227  image/jpeg   9845    227  "
      ]
     },
     "execution_count": 2,
     "metadata": {},
     "output_type": "execute_result"
    }
   ],
   "source": [
    "metadata = pd.read_csv(\"./Tomato_metadata.csv\")\n",
    "metadata.head()"
   ]
  },
  {
   "cell_type": "code",
   "execution_count": null,
   "metadata": {},
   "outputs": [
    {
     "data": {
      "text/plain": [
       "Index(['path', 'datapoint_id', 'dagshub_download_url', 'Valid', 'disease',\n",
       "       'height', 'media type', 'size', 'width'],\n",
       "      dtype='object')"
      ]
     },
     "execution_count": 3,
     "metadata": {},
     "output_type": "execute_result"
    }
   ],
   "source": [
    "# Checking data column names\n",
    "metadata.columns"
   ]
  },
  {
   "cell_type": "code",
   "execution_count": null,
   "metadata": {},
   "outputs": [
    {
     "name": "stdout",
     "output_type": "stream",
     "text": [
      "['Bacterial Spot' 'Black Mold' 'Gray spot' 'Late Blight' 'Early Blight'\n",
      " 'Leaf Mold' 'Septoria leaf spot' 'Target Spot' 'Yellow_Leaf_Virus'\n",
      " 'Mosaic Virus' 'Healthy']\n"
     ]
    }
   ],
   "source": [
    "# Checking the different types of disease we have\n",
    "print(metadata['disease'].unique())\n",
    "disease_list = metadata['disease'].unique()\n",
    "\n",
    "main_dir = \"./clean_data/\" # adjust the path based on your local dir\n",
    "\n",
    "# Create a folder for each disease for later moving corresponding images\n",
    "for i in disease_list:\n",
    "    os.mkdir(main_dir+i)"
   ]
  },
  {
   "cell_type": "code",
   "execution_count": null,
   "metadata": {},
   "outputs": [],
   "source": [
    "# Checking the available labels for the \"Valid\" col\n",
    "metadata['Valid'].unique()"
   ]
  },
  {
   "cell_type": "code",
   "execution_count": 7,
   "metadata": {},
   "outputs": [
    {
     "data": {
      "text/html": [
       "<div>\n",
       "<style scoped>\n",
       "    .dataframe tbody tr th:only-of-type {\n",
       "        vertical-align: middle;\n",
       "    }\n",
       "\n",
       "    .dataframe tbody tr th {\n",
       "        vertical-align: top;\n",
       "    }\n",
       "\n",
       "    .dataframe thead th {\n",
       "        text-align: right;\n",
       "    }\n",
       "</style>\n",
       "<table border=\"1\" class=\"dataframe\">\n",
       "  <thead>\n",
       "    <tr style=\"text-align: right;\">\n",
       "      <th></th>\n",
       "      <th>path</th>\n",
       "      <th>disease</th>\n",
       "    </tr>\n",
       "  </thead>\n",
       "  <tbody>\n",
       "    <tr>\n",
       "      <th>0</th>\n",
       "      <td>Bacterial spot/Bs100.JPG</td>\n",
       "      <td>Bacterial Spot</td>\n",
       "    </tr>\n",
       "    <tr>\n",
       "      <th>1</th>\n",
       "      <td>Bacterial spot/Bs101.JPG</td>\n",
       "      <td>Bacterial Spot</td>\n",
       "    </tr>\n",
       "    <tr>\n",
       "      <th>2</th>\n",
       "      <td>Bacterial spot/Bs102.JPG</td>\n",
       "      <td>Bacterial Spot</td>\n",
       "    </tr>\n",
       "    <tr>\n",
       "      <th>3</th>\n",
       "      <td>Bacterial spot/Bs103.JPG</td>\n",
       "      <td>Bacterial Spot</td>\n",
       "    </tr>\n",
       "    <tr>\n",
       "      <th>4</th>\n",
       "      <td>Bacterial spot/Bs104.JPG</td>\n",
       "      <td>Bacterial Spot</td>\n",
       "    </tr>\n",
       "  </tbody>\n",
       "</table>\n",
       "</div>"
      ],
      "text/plain": [
       "                       path         disease\n",
       "0  Bacterial spot/Bs100.JPG  Bacterial Spot\n",
       "1  Bacterial spot/Bs101.JPG  Bacterial Spot\n",
       "2  Bacterial spot/Bs102.JPG  Bacterial Spot\n",
       "3  Bacterial spot/Bs103.JPG  Bacterial Spot\n",
       "4  Bacterial spot/Bs104.JPG  Bacterial Spot"
      ]
     },
     "execution_count": 7,
     "metadata": {},
     "output_type": "execute_result"
    }
   ],
   "source": [
    "metadata = metadata.drop(['datapoint_id', 'dagshub_download_url', 'Valid',\n",
    "       'height', 'media type', 'size', 'width'], axis='columns')\n",
    "metadata.head()"
   ]
  },
  {
   "cell_type": "code",
   "execution_count": 24,
   "metadata": {},
   "outputs": [
    {
     "data": {
      "text/plain": [
       "'Bacterial Spot'"
      ]
     },
     "execution_count": 24,
     "metadata": {},
     "output_type": "execute_result"
    }
   ],
   "source": [
    "metadata_dic = dict(zip(metadata['path'], metadata['disease']))\n",
    "metadata_dic[\"Bacterial spot/Bs100.JPG\"]"
   ]
  },
  {
   "cell_type": "code",
   "execution_count": 35,
   "metadata": {},
   "outputs": [
    {
     "name": "stdout",
     "output_type": "stream",
     "text": [
      "We have 13737 images.\n",
      "[INFO]: Successfully Moved All Images.\n"
     ]
    }
   ],
   "source": [
    "# print data size\n",
    "print(f\"We have {len(metadata[\"path\"])} images.\")\n",
    "\n",
    "metadata_dic = dict(zip(metadata['path'], metadata['disease']))\n",
    "\n",
    "# Moving images to the corresponding deases folder\n",
    "for i in list(metadata[\"path\"]):\n",
    "    # extract the image name from the metadata and build its local path\n",
    "    local_img_path = \"./images_all/\"+i.split(\"/\")[-1]\n",
    "    # Get the image label (corresponding disease)\n",
    "    img_label = metadata_dic[i]\n",
    "    img_move_to = main_dir+img_label+\"/\"+i.split(\"/\")[-1]\n",
    "    # Moving images\n",
    "    shutil.move(local_img_path, img_move_to)\n",
    "\n",
    "print(\"[INFO]: Successfully Moved All Images.\")"
   ]
  },
  {
   "cell_type": "code",
   "execution_count": null,
   "metadata": {},
   "outputs": [
    {
     "name": "stdout",
     "output_type": "stream",
     "text": [
      "clean_data\\Bacterial Spot = 89\n",
      "clean_data\\Black Mold = 54\n",
      "clean_data\\Early Blight = 429\n",
      "clean_data\\Gray spot = 41\n",
      "clean_data\\Healthy = 1672\n",
      "clean_data\\Late Blight = 1933\n",
      "clean_data\\Leaf Mold = 923\n",
      "clean_data\\Mosaic Virus = 373\n",
      "clean_data\\Septoria leaf spot = 1772\n",
      "clean_data\\Target Spot = 1405\n",
      "clean_data\\Yellow_Leaf_Virus = 5057\n"
     ]
    }
   ],
   "source": [
    "# Checking data size per class\n",
    "count = 1\n",
    "for i in glob(main_dir+\"/*\"):\n",
    "    for j in glob(i+\"/*\"):\n",
    "        count += 1\n",
    "    print(f\"{i.split(\"/\")[-1]} = {count}\")\n",
    "    count  = 1"
   ]
  },
  {
   "cell_type": "code",
   "execution_count": 40,
   "metadata": {},
   "outputs": [
    {
     "name": "stderr",
     "output_type": "stream",
     "text": [
      "Copying files: 13737 files [05:31, 41.43 files/s]"
     ]
    },
    {
     "name": "stdout",
     "output_type": "stream",
     "text": [
      "[INFO]: Successfully split the data.\n"
     ]
    },
    {
     "name": "stderr",
     "output_type": "stream",
     "text": [
      "\n"
     ]
    }
   ],
   "source": [
    "# Split data into train val test respectively .70 .15 .15\n",
    "splitfolders.ratio(\"./clean_data\", output=\"./split_data\",\n",
    "    seed=1337, ratio=(.7, .15, .15))\n",
    "print(\"[INFO]: Successfully split the data.\")"
   ]
  },
  {
   "cell_type": "code",
   "execution_count": null,
   "metadata": {},
   "outputs": [],
   "source": []
  }
 ],
 "metadata": {
  "kernelspec": {
   "display_name": "trainenv",
   "language": "python",
   "name": "python3"
  },
  "language_info": {
   "codemirror_mode": {
    "name": "ipython",
    "version": 3
   },
   "file_extension": ".py",
   "mimetype": "text/x-python",
   "name": "python",
   "nbconvert_exporter": "python",
   "pygments_lexer": "ipython3",
   "version": "3.12.7"
  }
 },
 "nbformat": 4,
 "nbformat_minor": 2
}
